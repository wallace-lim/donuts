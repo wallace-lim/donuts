{
 "cells": [
  {
   "cell_type": "code",
   "execution_count": 1,
   "metadata": {
    "collapsed": true
   },
   "outputs": [],
   "source": [
    "import numpy as np\n",
    "import pandas as pd\n",
    "import csv"
   ]
  },
  {
   "cell_type": "code",
   "execution_count": 2,
   "metadata": {
    "collapsed": true
   },
   "outputs": [],
   "source": [
    "def generate_pairs(arr):\n",
    "    \"\"\"\n",
    "    Create a list of pairings given an arr. The pairing\n",
    "    matches each element on both ends together and pairs inwards.\n",
    "    \n",
    "    If there's an odd number of people, the middle element will\n",
    "    join the first pairing to be a triple\n",
    "    \n",
    "    @params arr (arr) - list of people to pair up\n",
    "    \n",
    "    @return (list) - list of tuples signifying the pairings\n",
    "    \"\"\"\n",
    "    \n",
    "    pairs = []\n",
    "    \n",
    "    for i in range(len(arr)//2):\n",
    "        pairs.append((arr[i], arr[-i-1]))\n",
    "    \n",
    "    if len(arr) % 2 == 1:\n",
    "        pairs[0] = (*pairs[0], arr[len(arr)//2])\n",
    "    return pairs\n",
    "\n",
    "def generate_matches(n, t):\n",
    "    \"\"\"\n",
    "    Generate t pairing possibilities of n individuals using\n",
    "    a round-robin algorithm.\n",
    "    \n",
    "    Algorithm Resourse\n",
    "    See: https://stackoverflow.com/questions/54447564/an-efficient-\n",
    "    approach-to-combinations-of-pairs-in-groups-without-repetitions\n",
    "    \n",
    "    @params n (int) - number of people in matching process\n",
    "    @params t (int) - number of times to pair entire group up\n",
    "    \n",
    "    @return (list) - list of pairings\n",
    "    \"\"\"\n",
    "    \n",
    "    arr = np.arange(n)\n",
    "    rotate_idx = np.hstack(([0], np.roll(np.arange(1,n), shift=1)))\n",
    "    \n",
    "    matches = []\n",
    "    for _ in range(t):\n",
    "        arr = arr[rotate_idx]\n",
    "        matches.append(generate_pairs(arr))\n",
    "    return matches\n",
    "\n",
    "def double_check_valid(n, matches):\n",
    "    \"\"\"\n",
    "    Returns True if there are no duplicate pairing in all generated matches\n",
    "    \n",
    "    @params n (int) - number of people in matching process\n",
    "    @params matches (list) - list of all pairing for each matching process\n",
    "    \n",
    "    @return (bool) - T if no duplicates, False otherwise\n",
    "    \"\"\"\n",
    "    visited = {i:set([i]) for i in range(n)}\n",
    "    \n",
    "    for match in matches:\n",
    "        for pair in match:\n",
    "            pair_set = set(pair)\n",
    "            for person in pair:\n",
    "                # Find intersection between who person has visited and current pair\n",
    "                dupes = visited[person].intersection(pair_set)\n",
    "                if len(dupes) > 1:\n",
    "                    return False\n",
    "                \n",
    "                # Add into set all people in pair\n",
    "                visited[person] = visited[person].union(pair_set)\n",
    "            \n",
    "    return True"
   ]
  },
  {
   "cell_type": "code",
   "execution_count": 4,
   "metadata": {
    "collapsed": false
   },
   "outputs": [
    {
     "data": {
      "text/plain": [
       "[[(0, 9, 4), (10, 8), (1, 7), (2, 6), (3, 5)],\n",
       " [(0, 8, 3), (9, 7), (10, 6), (1, 5), (2, 4)],\n",
       " [(0, 7, 2), (8, 6), (9, 5), (10, 4), (1, 3)],\n",
       " [(0, 6, 1), (7, 5), (8, 4), (9, 3), (10, 2)]]"
      ]
     },
     "metadata": {},
     "output_type": "display_data"
    },
    {
     "data": {
      "text/plain": [
       "True"
      ]
     },
     "execution_count": 4,
     "metadata": {},
     "output_type": "execute_result"
    }
   ],
   "source": [
    "n = 11\n",
    "num_meets = 4\n",
    "\n",
    "matches = generate_matches(n, num_meets)\n",
    "display(matches)\n",
    "\n",
    "double_check_valid(n, matches)"
   ]
  },
  {
   "cell_type": "code",
   "execution_count": 64,
   "metadata": {
    "collapsed": false
   },
   "outputs": [],
   "source": [
    "# Read in name listing\n",
    "name_lst = pd.read_csv('names.csv', names=['Names'], squeeze=True)\n",
    "\n",
    "n = len(name_lst)\n",
    "num_meets = 4\n",
    "\n",
    "# Perform Pair Matching\n",
    "matches = generate_matches(n, num_meets)\n",
    "#display(matches)\n",
    "#display(double_check_valid(n, matches))\n",
    "\n",
    "# Generate CSV File\n",
    "headers = ['Match', 'Person 1', 'Person 2', 'Person 3']\n",
    "df = pd.DataFrame(columns=headers)\n",
    "\n",
    "# Write Each Match's Pairings\n",
    "for i in range(num_meets):\n",
    "    match = matches[i]\n",
    "    for pair in match:\n",
    "        pair_names = [name_lst[j] for j in pair]\n",
    "        \n",
    "        # Add row to dataframe\n",
    "        df.loc[df.shape[0]] = [i] + pair_names + ([None] if len(pair) == 2 else [])\n",
    "\n",
    "df.to_csv('pairing.csv', index=False)"
   ]
  }
 ],
 "metadata": {
  "kernelspec": {
   "display_name": "Python 3",
   "language": "python",
   "name": "python3"
  },
  "language_info": {
   "codemirror_mode": {
    "name": "ipython",
    "version": 3
   },
   "file_extension": ".py",
   "mimetype": "text/x-python",
   "name": "python",
   "nbconvert_exporter": "python",
   "pygments_lexer": "ipython3",
   "version": "3.7.7"
  }
 },
 "nbformat": 4,
 "nbformat_minor": 0
}
